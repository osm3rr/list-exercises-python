{
 "cells": [
  {
   "cell_type": "markdown",
   "metadata": {},
   "source": [
    "# Exercise 4\n",
    "Ask the user to enter a list containing numbers between 1 and 12. Then replace all of the\n",
    "entries in the list that are greater than 10 with 10."
   ]
  },
  {
   "cell_type": "code",
   "execution_count": 11,
   "metadata": {},
   "outputs": [
    {
     "name": "stdout",
     "output_type": "stream",
     "text": [
      "Original list: [1, 3, 5, 7, 11, 12, 13]\n",
      "New list: [1, 3, 5, 7, 10, 10, 10]\n"
     ]
    }
   ],
   "source": [
    "# Solution\n",
    "input_list = eval( input( \"Ingrese una lista: \" ) )\n",
    "\n",
    "work_list = input_list.copy()\n",
    "\n",
    "length = len( work_list )\n",
    "\n",
    "for item in range( length ):\n",
    "    \n",
    "    if work_list[ item ] > 10:\n",
    "        work_list.pop( item )\n",
    "        work_list.insert( item, 10 )\n",
    "\n",
    "\n",
    "print(f'Original list: {input_list}')\n",
    "print(f'New list: {work_list}')"
   ]
  },
  {
   "cell_type": "code",
   "execution_count": null,
   "metadata": {},
   "outputs": [],
   "source": []
  }
 ],
 "metadata": {
  "interpreter": {
   "hash": "3313d7862e35f23cb796a0d5e1a05f5386948db6518b51457360428deb8d3fb3"
  },
  "kernelspec": {
   "display_name": "Python 3.8.3 64-bit ('base': conda)",
   "language": "python",
   "name": "python3"
  },
  "language_info": {
   "codemirror_mode": {
    "name": "ipython",
    "version": 3
   },
   "file_extension": ".py",
   "mimetype": "text/x-python",
   "name": "python",
   "nbconvert_exporter": "python",
   "pygments_lexer": "ipython3",
   "version": "3.8.3"
  },
  "orig_nbformat": 4
 },
 "nbformat": 4,
 "nbformat_minor": 2
}
