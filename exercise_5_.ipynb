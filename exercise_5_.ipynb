{
 "cells": [
  {
   "cell_type": "markdown",
   "metadata": {},
   "source": [
    "# Exercise 5\n",
    "Ask the user to enter a list of strings. Create a new list that consists of those strings with their first characters removed."
   ]
  },
  {
   "cell_type": "code",
   "execution_count": 2,
   "metadata": {},
   "outputs": [
    {
     "name": "stdout",
     "output_type": "stream",
     "text": [
      "Original list: ['Hola', 'mundo']\n",
      "New list: ['ola', 'undo']\n"
     ]
    }
   ],
   "source": [
    "# Solution\n",
    "string_list = eval( input(\"Enter a string list: \") )\n",
    "\n",
    "work_list = string_list.copy()\n",
    "\n",
    "length_list = len( work_list )\n",
    "\n",
    "string_list_2 = []\n",
    "\n",
    "for item in range( length_list ):\n",
    "    string_list_2.append( (work_list[item][1:]) )\n",
    "\n",
    "print(f'Original list: {string_list}')\n",
    "print(f'New list: {string_list_2}')"
   ]
  }
 ],
 "metadata": {
  "interpreter": {
   "hash": "3313d7862e35f23cb796a0d5e1a05f5386948db6518b51457360428deb8d3fb3"
  },
  "kernelspec": {
   "display_name": "Python 3.8.3 64-bit ('base': conda)",
   "language": "python",
   "name": "python3"
  },
  "language_info": {
   "codemirror_mode": {
    "name": "ipython",
    "version": 3
   },
   "file_extension": ".py",
   "mimetype": "text/x-python",
   "name": "python",
   "nbconvert_exporter": "python",
   "pygments_lexer": "ipython3",
   "version": "3.8.3"
  },
  "orig_nbformat": 4
 },
 "nbformat": 4,
 "nbformat_minor": 2
}
