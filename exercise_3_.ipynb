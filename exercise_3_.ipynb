{
 "cells": [
  {
   "cell_type": "markdown",
   "metadata": {},
   "source": [
    "# Exercise 3\n",
    "Start with the list [8,9,10] . Do the following:\n",
    "* (a) Set the second entry (index 1) to 17\n",
    "* (b) Add 4, 5, and 6 to the end of the list\n",
    "* (c) Remove the first entry from the list\n",
    "* (d) Sort the list\n",
    "* (e) Double the list\n",
    "* (f) Insert 25 at index 3\n",
    "* The final list should equal [4,5,6,25,10,17,4,5,6,10,17]"
   ]
  },
  {
   "cell_type": "code",
   "execution_count": 1,
   "metadata": {},
   "outputs": [
    {
     "name": "stdout",
     "output_type": "stream",
     "text": [
      "[8, 17, 9, 10]\n"
     ]
    }
   ],
   "source": [
    "# solution a\n",
    "list_1 = [8, 9, 10]\n",
    "\n",
    "list_1.insert( 1, 17 )\n",
    "\n",
    "print( list_1 )"
   ]
  },
  {
   "cell_type": "code",
   "execution_count": 2,
   "metadata": {},
   "outputs": [
    {
     "name": "stdout",
     "output_type": "stream",
     "text": [
      "[8, 17, 9, 10, 4, 5, 6]\n"
     ]
    }
   ],
   "source": [
    "# solution b\n",
    "\n",
    "for item in range( 4, 7 ):\n",
    "    list_1.append( item )\n",
    "    \n",
    "print( list_1 )"
   ]
  },
  {
   "cell_type": "code",
   "execution_count": 3,
   "metadata": {},
   "outputs": [
    {
     "name": "stdout",
     "output_type": "stream",
     "text": [
      "Solution c: [17, 9, 10, 4, 5, 6]\n"
     ]
    }
   ],
   "source": [
    "# solution c\n",
    "list_1.pop(0 )\n",
    "\n",
    "print( f\"Solution c: {list_1}\" )"
   ]
  },
  {
   "cell_type": "code",
   "execution_count": 4,
   "metadata": {},
   "outputs": [
    {
     "name": "stdout",
     "output_type": "stream",
     "text": [
      "sol d: [4, 5, 6, 9, 10, 17]\n"
     ]
    }
   ],
   "source": [
    "# solution d\n",
    "list_1.sort()\n",
    "\n",
    "print(f'sol d: {list_1}')"
   ]
  },
  {
   "cell_type": "code",
   "execution_count": 5,
   "metadata": {},
   "outputs": [
    {
     "name": "stdout",
     "output_type": "stream",
     "text": [
      "[4, 5, 6, 9, 10, 17, 4, 5, 6, 9, 10, 17]\n"
     ]
    }
   ],
   "source": [
    "# solution e\n",
    "double_list = list_1 * 2\n",
    "\n",
    "print( double_list )"
   ]
  },
  {
   "cell_type": "code",
   "execution_count": 8,
   "metadata": {},
   "outputs": [
    {
     "name": "stdout",
     "output_type": "stream",
     "text": [
      "[4, 5, 6, 25, 25, 9, 10, 17, 4, 5, 6, 9, 10, 17]\n"
     ]
    }
   ],
   "source": [
    "# solution f\n",
    "double_list.insert( 3, 25 )\n",
    "\n",
    "print( double_list )"
   ]
  }
 ],
 "metadata": {
  "interpreter": {
   "hash": "3313d7862e35f23cb796a0d5e1a05f5386948db6518b51457360428deb8d3fb3"
  },
  "kernelspec": {
   "display_name": "Python 3.8.3 64-bit ('base': conda)",
   "language": "python",
   "name": "python3"
  },
  "language_info": {
   "codemirror_mode": {
    "name": "ipython",
    "version": 3
   },
   "file_extension": ".py",
   "mimetype": "text/x-python",
   "name": "python",
   "nbconvert_exporter": "python",
   "pygments_lexer": "ipython3",
   "version": "3.8.3"
  },
  "orig_nbformat": 4
 },
 "nbformat": 4,
 "nbformat_minor": 2
}
