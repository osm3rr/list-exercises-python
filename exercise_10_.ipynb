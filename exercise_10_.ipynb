{
 "cells": [
  {
   "cell_type": "markdown",
   "metadata": {},
   "source": [
    "# Exercise 10\n",
    "Write a program that rotates the elements of a list so that the element at the first index moves\n",
    "to the second index, the element in the second index moves to the third index, etc., and the\n",
    "element in the last index moves to the first index."
   ]
  },
  {
   "cell_type": "code",
   "execution_count": 2,
   "metadata": {},
   "outputs": [
    {
     "name": "stdout",
     "output_type": "stream",
     "text": [
      "Original list: [1, 2, 3, 4, 5]\n",
      "Rotated list: [5, 1, 2, 3, 4]\n"
     ]
    }
   ],
   "source": [
    "# Solution\n",
    "\n",
    "# Define the list\n",
    "list_1 = [1,2,3,4,5] \n",
    "print(\"Original list:\", list_1)\n",
    "\n",
    "# Set the number of splits\n",
    "n_splits = 1\n",
    "\n",
    "length_list = len( list_1 )\n",
    "\n",
    "# Rotate The List\n",
    "#                                      last value            +   resto de valores   \n",
    "list_1 = ( list_1[ ( length_list - n_splits ) : length_list ] + list_1[ 0 : (length_list - n_splits) ] ) \n",
    "print(\"Rotated list:\", list_1)"
   ]
  }
 ],
 "metadata": {
  "interpreter": {
   "hash": "3313d7862e35f23cb796a0d5e1a05f5386948db6518b51457360428deb8d3fb3"
  },
  "kernelspec": {
   "display_name": "Python 3.8.3 64-bit ('base': conda)",
   "language": "python",
   "name": "python3"
  },
  "language_info": {
   "codemirror_mode": {
    "name": "ipython",
    "version": 3
   },
   "file_extension": ".py",
   "mimetype": "text/x-python",
   "name": "python",
   "nbconvert_exporter": "python",
   "pygments_lexer": "ipython3",
   "version": "3.8.3"
  },
  "orig_nbformat": 4
 },
 "nbformat": 4,
 "nbformat_minor": 2
}
