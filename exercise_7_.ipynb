{
 "cells": [
  {
   "cell_type": "markdown",
   "metadata": {},
   "source": [
    "# Exercise 7\n",
    "Write a program that takes any two lists L and M of the same size and adds their elements\n",
    "together to form a new list N whose elements are sums of the corresponding elements in L\n",
    "and M . For instance, if L=[3,1,4] and M=[1,5,9] , then N should equal [4,6,13] ."
   ]
  },
  {
   "cell_type": "code",
   "execution_count": 5,
   "metadata": {},
   "outputs": [
    {
     "name": "stdout",
     "output_type": "stream",
     "text": [
      "M: [1, 2, 3]\n",
      "L: [2, 2, 2] +\n",
      "----------------\n",
      "N: [3, 4, 5]\n"
     ]
    }
   ],
   "source": [
    "# Solution\n",
    "m_list = eval( input( \"M list: \" ) )\n",
    "l_list = eval( input( \"L list: \" ) )\n",
    "\n",
    "lenght_m_list = len( m_list )\n",
    "lenght_l_list = len( l_list )\n",
    "\n",
    "n_list = []\n",
    "\n",
    "if lenght_m_list == lenght_l_list:\n",
    "    \n",
    "    for item in range( lenght_l_list ):\n",
    "        n_list.append( m_list[item] + l_list[item])\n",
    "        #print( m_list[item])\n",
    "        #print( l_list[item])\n",
    "    \n",
    "else:\n",
    "    print(\"Las listas son de diferentes tamaños\")\n",
    "\n",
    "print( f'M: {m_list}' )\n",
    "print( f'L: {l_list} +' )\n",
    "print('--------------')\n",
    "print( f'N: {n_list}' )"
   ]
  }
 ],
 "metadata": {
  "interpreter": {
   "hash": "3313d7862e35f23cb796a0d5e1a05f5386948db6518b51457360428deb8d3fb3"
  },
  "kernelspec": {
   "display_name": "Python 3.8.3 64-bit ('base': conda)",
   "language": "python",
   "name": "python3"
  },
  "language_info": {
   "codemirror_mode": {
    "name": "ipython",
    "version": 3
   },
   "file_extension": ".py",
   "mimetype": "text/x-python",
   "name": "python",
   "nbconvert_exporter": "python",
   "pygments_lexer": "ipython3",
   "version": "3.8.3"
  },
  "orig_nbformat": 4
 },
 "nbformat": 4,
 "nbformat_minor": 2
}
