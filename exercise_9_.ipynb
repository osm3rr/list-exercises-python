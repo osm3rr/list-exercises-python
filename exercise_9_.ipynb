{
 "cells": [
  {
   "cell_type": "markdown",
   "metadata": {},
   "source": [
    "# Exercise 9\n",
    "When playing games where you have to roll two dice, it is nice to know the odds of each\n",
    "roll. For instance, the odds of rolling a 12 are about 3%, and the odds of rolling a 7 are about\n",
    "17%. You can compute these mathematically, but if you don’t know the math, you can write\n",
    "a program to do it. To do this, your program should simulate rolling two dice about 10,000\n",
    "times and compute and print out the percentage of rolls that come out to be 2, 3, 4, . . . , 12.\n"
   ]
  },
  {
   "cell_type": "code",
   "execution_count": 10,
   "metadata": {},
   "outputs": [
    {
     "name": "stdout",
     "output_type": "stream",
     "text": [
      "Prob 2: 8.91\n",
      "Prob 3: 9.48\n",
      "Prob 4: 9.32\n",
      "Prob 5: 9.14\n",
      "Prob 6: 9.06\n",
      "Prob 7: 8.93\n",
      "Prob 8: 9.23\n",
      "Prob 9: 8.82\n",
      "Prob 10: 9.3\n",
      "Prob 11: 9.1\n",
      "Prob 12: 8.71\n"
     ]
    }
   ],
   "source": [
    "# Solution\n",
    "from random import randint\n",
    "\n",
    "roll_dice = []\n",
    "\n",
    "for roll in range(10000):\n",
    "    roll_dice.append( randint( 2, 12 ) )\n",
    "\n",
    "for item in range( 2, 13 ):\n",
    "    print( f\"Prob {item}: {roll_dice.count(item) * 100 / len(roll_dice)}\" )\n",
    "\n",
    "\n"
   ]
  }
 ],
 "metadata": {
  "interpreter": {
   "hash": "3313d7862e35f23cb796a0d5e1a05f5386948db6518b51457360428deb8d3fb3"
  },
  "kernelspec": {
   "display_name": "Python 3.8.3 64-bit ('base': conda)",
   "language": "python",
   "name": "python3"
  },
  "language_info": {
   "codemirror_mode": {
    "name": "ipython",
    "version": 3
   },
   "file_extension": ".py",
   "mimetype": "text/x-python",
   "name": "python",
   "nbconvert_exporter": "python",
   "pygments_lexer": "ipython3",
   "version": "3.8.3"
  },
  "orig_nbformat": 4
 },
 "nbformat": 4,
 "nbformat_minor": 2
}
