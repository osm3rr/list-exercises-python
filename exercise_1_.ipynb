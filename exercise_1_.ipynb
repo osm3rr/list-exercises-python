{
 "cells": [
  {
   "cell_type": "markdown",
   "metadata": {},
   "source": [
    "# Exercise 1\n",
    "Write a program that asks the user to enter a list of integers. Do the following:\n",
    "* (a) Print the total number of items in the list.\n",
    "* (b) Print the last item in the list.\n",
    "* (c) Print the list in reverse order.\n",
    "* (d) Print Yes if the list contains a 5 and No otherwise.\n",
    "* (e) Print the number of fives in the list.\n",
    "* (f) Remove the first and last items from the list, sort the remaining items, and print the\n",
    "result."
   ]
  },
  {
   "cell_type": "code",
   "execution_count": 2,
   "metadata": {},
   "outputs": [
    {
     "name": "stdout",
     "output_type": "stream",
     "text": [
      "Resultado: 3\n"
     ]
    }
   ],
   "source": [
    "# Solution a\n",
    "list_1 = eval( input( \"Ingrese una lista de enteros: \" ) )\n",
    "\n",
    "list_length = len(list_1)\n",
    "\n",
    "print( f\"Resultado: {list_length}\" )"
   ]
  },
  {
   "cell_type": "code",
   "execution_count": 4,
   "metadata": {},
   "outputs": [
    {
     "name": "stdout",
     "output_type": "stream",
     "text": [
      "Last item: 3 \n"
     ]
    }
   ],
   "source": [
    "# Solution b\n",
    "list_1 = eval( input( \"Ingrese una lista de enteros: \" ) )\n",
    "\n",
    "last_item = list_1[-1]\n",
    "\n",
    "print(f\"Last item: {last_item} \")"
   ]
  },
  {
   "cell_type": "code",
   "execution_count": 14,
   "metadata": {},
   "outputs": [
    {
     "name": "stdout",
     "output_type": "stream",
     "text": [
      "[3, 2, 1]\n"
     ]
    }
   ],
   "source": [
    "# solution c\n",
    "list_1 = eval( input( \"Ingrese una lista de enteros: \" ) )\n",
    "\n",
    "list_1.reverse()\n",
    "\n",
    "print( list_1 )"
   ]
  },
  {
   "cell_type": "code",
   "execution_count": 16,
   "metadata": {},
   "outputs": [
    {
     "name": "stdout",
     "output_type": "stream",
     "text": [
      " No \n"
     ]
    }
   ],
   "source": [
    "# solution d\n",
    "list_1 = eval( input( \"Ingrese una lista de enteros: \" ) )\n",
    "\n",
    "if 5 in list_1:\n",
    "    print( \"Yes\" )\n",
    "else:\n",
    "    print(\" No \")\n"
   ]
  },
  {
   "cell_type": "code",
   "execution_count": 19,
   "metadata": {},
   "outputs": [
    {
     "name": "stdout",
     "output_type": "stream",
     "text": [
      "Resultado: 2\n"
     ]
    }
   ],
   "source": [
    "# Solution e\n",
    "list_1 = eval( input( \"Ingrese una lista de enteros: \" ) )\n",
    "\n",
    "print(f'Resultado: {list_1.count(5)}')"
   ]
  },
  {
   "cell_type": "code",
   "execution_count": 22,
   "metadata": {},
   "outputs": [
    {
     "name": "stdout",
     "output_type": "stream",
     "text": [
      "[1, 2, 3, 4]\n"
     ]
    }
   ],
   "source": [
    "# Solution f\n",
    "list_1 = eval( input( \"Ingrese una lista de enteros: \" ) )\n",
    "\n",
    "# remove the first item\n",
    "list_1.pop(0)\n",
    "\n",
    "# remove the last item\n",
    "list_1.pop(-1)\n",
    "\n",
    "#sort the element\n",
    "list_1.sort()\n",
    "\n",
    "# result\n",
    "print( list_1 )\n",
    "\n",
    "\n",
    "#input: [6, 2, 4, 3, 1, 5]\n"
   ]
  }
 ],
 "metadata": {
  "interpreter": {
   "hash": "3313d7862e35f23cb796a0d5e1a05f5386948db6518b51457360428deb8d3fb3"
  },
  "kernelspec": {
   "display_name": "Python 3.8.3 64-bit ('base': conda)",
   "language": "python",
   "name": "python3"
  },
  "language_info": {
   "name": "python",
   "version": "3.8.3"
  },
  "orig_nbformat": 4
 },
 "nbformat": 4,
 "nbformat_minor": 2
}
