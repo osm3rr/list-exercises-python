{
 "cells": [
  {
   "cell_type": "markdown",
   "metadata": {},
   "source": [
    "# Exercise 2\n",
    "Write a program that generates a list of 20 random numbers between 1 and 100.\n",
    "* (a) Print the list.\n",
    "* (b) Print the average of the elements in the list.\n",
    "* (c) Print the largest and smallest values in the list.\n",
    "* (d) Print the second largest and second smallest entries in the list\n",
    "* (e) Print how many even numbers are in the list."
   ]
  },
  {
   "cell_type": "code",
   "execution_count": 8,
   "metadata": {},
   "outputs": [
    {
     "name": "stdout",
     "output_type": "stream",
     "text": [
      "Lista: \n",
      "[72, 71, 24, 84, 79, 35, 97, 36, 92, 6, 59, 88, 73, 80, 23, 16, 92, 67, 21, 40]\n",
      "Cantidad de elementos: 20\n"
     ]
    }
   ],
   "source": [
    "# solution a\n",
    "\n",
    "from random import randint\n",
    "\n",
    "STOP = 20\n",
    "\n",
    "random_list = []\n",
    "\n",
    "for num in range( STOP ):\n",
    "    random_list.append( randint( 1, 100 ) )\n",
    "    \n",
    "print( \"Lista: \" )\n",
    "print( random_list )\n",
    "print( f'Cantidad de elementos: {len( random_list )}' )"
   ]
  },
  {
   "cell_type": "code",
   "execution_count": 9,
   "metadata": {},
   "outputs": [
    {
     "name": "stdout",
     "output_type": "stream",
     "text": [
      "Average: 57.75\n"
     ]
    }
   ],
   "source": [
    "# solution b\n",
    "average = sum( random_list ) / len( random_list )\n",
    "\n",
    "print( f\"Average: {average}\" )"
   ]
  },
  {
   "cell_type": "code",
   "execution_count": 10,
   "metadata": {},
   "outputs": [
    {
     "name": "stdout",
     "output_type": "stream",
     "text": [
      "Max value: 97\n",
      "Min value: 6\n"
     ]
    }
   ],
   "source": [
    "# solution c\n",
    "print( f'Max value: {max( random_list )}' )\n",
    "\n",
    "print( f'Min value: {min( random_list )}' )"
   ]
  },
  {
   "cell_type": "code",
   "execution_count": 11,
   "metadata": {},
   "outputs": [
    {
     "name": "stdout",
     "output_type": "stream",
     "text": [
      "Original: [6, 16, 21, 23, 24, 35, 36, 40, 59, 67, 71, 72, 73, 79, 80, 84, 88, 92, 92, 97]\n",
      "Second max: 16\n",
      "Second min: 92\n"
     ]
    }
   ],
   "source": [
    "# solution d\n",
    "random_list.sort()\n",
    "\n",
    "print( f'Original: {random_list}' )\n",
    "\n",
    "print( f'Second max: {random_list[1]}' )\n",
    "print( f'Second min: {random_list[-2]}' )"
   ]
  },
  {
   "cell_type": "code",
   "execution_count": 12,
   "metadata": {},
   "outputs": [
    {
     "name": "stdout",
     "output_type": "stream",
     "text": [
      "Even items: 11\n"
     ]
    }
   ],
   "source": [
    "# solution e\n",
    "even_count = 0\n",
    "length_list = len( random_list )\n",
    "\n",
    "for item in range( length_list ):\n",
    "    if ( random_list[item] % 2 ) == 0:\n",
    "        even_count += 1\n",
    "\n",
    "print( f'Even items: {even_count}' )\n"
   ]
  }
 ],
 "metadata": {
  "interpreter": {
   "hash": "3313d7862e35f23cb796a0d5e1a05f5386948db6518b51457360428deb8d3fb3"
  },
  "kernelspec": {
   "display_name": "Python 3.8.3 64-bit ('base': conda)",
   "language": "python",
   "name": "python3"
  },
  "language_info": {
   "codemirror_mode": {
    "name": "ipython",
    "version": 3
   },
   "file_extension": ".py",
   "mimetype": "text/x-python",
   "name": "python",
   "nbconvert_exporter": "python",
   "pygments_lexer": "ipython3",
   "version": "3.8.3"
  },
  "orig_nbformat": 4
 },
 "nbformat": 4,
 "nbformat_minor": 2
}
